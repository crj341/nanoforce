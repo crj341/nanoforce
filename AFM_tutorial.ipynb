{
  "cells": [
    {
      "cell_type": "markdown",
      "metadata": {
        "id": "W1zEfiXpPJX6",
        "colab_type": "text"
      },
      "source": [
        "# Python AFM Analysis Tutorial\n",
        "\n",
        "This tutorial demonstrates the basics of the AFM python tools for data analysis. Currently the scripts are available as an offline file or can be installed from PyPI using:\n"
      ]
    },
    {
      "cell_type": "markdown",
      "metadata": {},
      "source": [
        "pip install nanoforce"
      ]
    },
    {
      "cell_type": "code",
      "execution_count": null,
      "metadata": {},
      "outputs": [],
      "source": [
        "Following the steps below will show you how to carry out simple analysis and plotting of AFM data produced with Nanoscope and explain how to carryout your own more specific analysis. For each snippet of code - try running it to see what it outputs."
      ]
    },
    {
      "cell_type": "markdown",
      "metadata": {
        "id": "0qo2ipyERwEW",
        "colab_type": "text"
      },
      "source": [
        "## Prerequisites\n",
        "To use the tools you will need a few python packages (numpy, plotly, scipy and easygui). To install these type the following commands into a terminal window:"
      ]
    },
    {
      "cell_type": "code",
      "metadata": {
        "id": "wrcyIVH8rw2m",
        "colab_type": "code",
        "colab": {
          "base_uri": "https://localhost:8080/",
          "height": 34
        },
        "outputId": "2c0c0da6-008b-447d-84f1-3c98b014ff4a",
        "tags": []
      },
      "source": [
        "pip install numpy"
      ],
      "execution_count": null,
      "outputs": []
    },
    {
      "cell_type": "code",
      "metadata": {
        "id": "ushGHVbprw_9",
        "colab_type": "code",
        "colab": {
          "base_uri": "https://localhost:8080/",
          "height": 68
        },
        "outputId": "e7937bbe-1eec-4b08-c7cb-fae8417bf400"
      },
      "source": [
        "pip install plotly"
      ],
      "execution_count": null,
      "outputs": []
    },
    {
      "cell_type": "code",
      "metadata": {
        "id": "f9Wskjv9rxbr",
        "colab_type": "code",
        "colab": {
          "base_uri": "https://localhost:8080/",
          "height": 51
        },
        "outputId": "0627a9fd-795e-49a5-e787-226b3ebf40f7"
      },
      "source": [
        "pip install scipy"
      ],
      "execution_count": null,
      "outputs": []
    },
    {
      "cell_type": "code",
      "metadata": {
        "id": "-CKgUkwprsR5",
        "colab_type": "code",
        "colab": {
          "base_uri": "https://localhost:8080/",
          "height": 102
        },
        "outputId": "2066b488-caaa-4074-b4f4-0cfb3704e262",
        "tags": []
      },
      "source": [
        "pip install easygui"
      ],
      "execution_count": null,
      "outputs": []
    },
    {
      "cell_type": "markdown",
      "metadata": {
        "id": "D6SVJKgHRQQ7",
        "colab_type": "text"
      },
      "source": [
        "## Getting started\n",
        "\n",
        "Start off by creating a folder containing your script (and the afm.py file if you have not installed the package from PyPI). For beginers it may be best to use a jupyter notebook here, as has been used for this tutorial. Open your script file and type (note this is case sensetive):"
      ]
    },
    {
      "cell_type": "code",
      "metadata": {
        "id": "pQfbPQzZQJ_u",
        "colab_type": "code",
        "colab": {}
      },
      "source": [
        "from  nanoforce import  AFM"
      ],
      "execution_count": null,
      "outputs": []
    },
    {
      "cell_type": "markdown",
      "metadata": {
        "id": "5LmizTFQQcRN",
        "colab_type": "text"
      },
      "source": [
        "To carry out basic analysis you can use the inbuilt 'run' command.\n",
        "\n",
        "(Check the window hasn't opened behind python if this is running slowly.)"
      ]
    },
    {
      "cell_type": "code",
      "metadata": {
        "id": "LviDjG3ASFrI",
        "colab_type": "code",
        "colab": {},
        "tags": []
      },
      "source": [
        "expt = AFM()\n",
        "expt.run()"
      ],
      "execution_count": null,
      "outputs": []
    },
    {
      "cell_type": "markdown",
      "metadata": {
        "id": "p36AjdsbSMiG",
        "colab_type": "text"
      },
      "source": [
        "This will open a window, prompting you to select the AFM data you wish to analyse. Navigate to the folder and select the file with the '.000' extension. The tools will automatically align the data with thebaseline and set the surface height to zero. A plot will open with the processed force curves, use the slider to move through each experiment. The code will also aclculate the adhesion and modules. The mean and standard deviation will appera in the output.\n",
        "\n",
        "It is likley you will wish to carry out more detailled analysis than provided by this function. The following sections will guide you through all the individual functions available."
      ]
    },
    {
      "cell_type": "markdown",
      "metadata": {
        "id": "1wA_VZbeSXNi",
        "colab_type": "text"
      },
      "source": [
        "## Naming variables\n",
        "\n",
        "If you have carried out multiple experiments and would like to compare the results, you should assign an instance of the AFM class for each. Name a variable for each experiment and call the class:"
      ]
    },
    {
      "cell_type": "code",
      "metadata": {
        "id": "sxY2bORaTDpr",
        "colab_type": "code",
        "colab": {}
      },
      "source": [
        "expt_1 = AFM()\n",
        "expt_2 = AFM()\n",
        "expt_3 = AFM()"
      ],
      "execution_count": null,
      "outputs": []
    },
    {
      "cell_type": "markdown",
      "metadata": {
        "id": "sZR4H_5CTK8g",
        "colab_type": "text"
      },
      "source": [
        "## Importing data\n",
        "\n",
        "To import a dataset use the 'input_files' command for each experiment:\n",
        "\n",
        "Note - the GUI for selecting a file will only run on a local version of python (not in the Colab tutorial). This will prompt an error in Colab - use manual file_name entry below."
      ]
    },
    {
      "cell_type": "code",
      "metadata": {
        "id": "jesvq6grTWAc",
        "colab_type": "code",
        "colab": {}
      },
      "source": [
        "expt_1.input_files()\n",
        "expt_2.input_files()\n",
        "expt_3.input_files()"
      ],
      "execution_count": null,
      "outputs": []
    },
    {
      "cell_type": "markdown",
      "metadata": {
        "id": "tqGGkYYdTdiU",
        "colab_type": "text"
      },
      "source": [
        "This will open a window prompting you to select the '.000' file for each experiment. The code will then automatcally import all files with the same name.\n",
        "\n",
        "If you would prefer to manually set the file name (useful if you are running the script multiple time), you can name the 'file_name' variable and set the 'gui_on' flag in 'import_files' to 'False':"
      ]
    },
    {
      "cell_type": "code",
      "metadata": {
        "id": "J3d84l-ST6ZV",
        "colab_type": "code",
        "colab": {}
      },
      "source": [
        "expt_1.file_name = '/insert/your/file/path/here.000'\n",
        "expt_1.input_files(gui_on = False)"
      ],
      "execution_count": null,
      "outputs": []
    },
    {
      "cell_type": "markdown",
      "metadata": {
        "id": "3ZIU8TWRU6cw",
        "colab_type": "text"
      },
      "source": [
        "## Naming experiments\n",
        "\n",
        "It may be useful to name each experiment, for plotting etc. To do so, use the following command:"
      ]
    },
    {
      "cell_type": "code",
      "metadata": {
        "id": "u6NrSXFjVIIY",
        "colab_type": "code",
        "colab": {}
      },
      "source": [
        "expt_1.set_run_name('Sample 1')"
      ],
      "execution_count": null,
      "outputs": []
    },
    {
      "cell_type": "markdown",
      "metadata": {
        "id": "2JxInlLtUJ6s",
        "colab_type": "text"
      },
      "source": [
        "## Finding nanoscope parameters\n",
        "\n",
        "The next step is to import the relevant parameters from the file (such as deflection sensetivity and spring constant). To do so, due the 'nanoscope_params' function as follows:"
      ]
    },
    {
      "cell_type": "code",
      "metadata": {
        "id": "3niMyYjUUZlo",
        "colab_type": "code",
        "colab": {
          "base_uri": "https://localhost:8080/",
          "height": 340
        },
        "outputId": "9ec73eb7-771c-44bf-811f-8a9048a8af8f"
      },
      "source": [
        "expt_1.nanoscope_params()\n",
        "expt_2.nanoscope_params()\n",
        "expt_3.nanoscope_params()"
      ],
      "execution_count": null,
      "outputs": []
    },
    {
      "cell_type": "markdown",
      "metadata": {
        "id": "A_9LH9ifUeaQ",
        "colab_type": "text"
      },
      "source": [
        "If you would like to manually set the deflaction sensetivity, use the following function:"
      ]
    },
    {
      "cell_type": "code",
      "metadata": {
        "id": "4kdhYW9OUkVA",
        "colab_type": "code",
        "colab": {}
      },
      "source": [
        "expt_1.set_def_sens(100)"
      ],
      "execution_count": null,
      "outputs": []
    },
    {
      "cell_type": "markdown",
      "metadata": {
        "id": "3ERAkpRFUrkm",
        "colab_type": "text"
      },
      "source": [
        "If you would like to manually set the spring constant, use the following function:"
      ]
    },
    {
      "cell_type": "code",
      "metadata": {
        "id": "VASY4TYyUwQO",
        "colab_type": "code",
        "colab": {}
      },
      "source": [
        "expt_2.set_spr_const(0.32)"
      ],
      "execution_count": null,
      "outputs": []
    },
    {
      "cell_type": "markdown",
      "metadata": {
        "id": "APBbGMMfVJ3c",
        "colab_type": "text"
      },
      "source": [
        "## Reading force curve data\n",
        "Now we have the parameters, we need the actual data. To import this, use the 'nanoscope_read' command:"
      ]
    },
    {
      "cell_type": "code",
      "metadata": {
        "id": "6VghlSrTVVKV",
        "colab_type": "code",
        "colab": {}
      },
      "source": [
        "expt_1.nanoscope_read()\n",
        "expt_2.nanoscope_read()\n",
        "expt_3.nanoscope_read()"
      ],
      "execution_count": null,
      "outputs": []
    },
    {
      "cell_type": "markdown",
      "metadata": {
        "id": "LkZQZ_ZLVX5o",
        "colab_type": "text"
      },
      "source": [
        "## Plot raw data\n",
        "\n",
        "To view the raw force curve data before any processing use the command below. The number in the brackets specifies which curve to plot. Remember, when using python, the numbers start at 0 (i.e. for 100 force curves the numbers are 0 to 99)."
      ]
    },
    {
      "cell_type": "code",
      "metadata": {
        "id": "98hJE5D0Viog",
        "colab_type": "code",
        "colab": {}
      },
      "source": [
        "expt_1.plot_raw(1)"
      ],
      "execution_count": null,
      "outputs": []
    },
    {
      "cell_type": "markdown",
      "metadata": {
        "id": "CQPZmx6yVxnd",
        "colab_type": "text"
      },
      "source": [
        "## Baseline\n",
        "\n",
        "To adjust the baseline for each curve use the 'baseline' function. This works by taking the mean value over a specified area and setting this to zero. There are default values included to get you started:"
      ]
    },
    {
      "cell_type": "code",
      "metadata": {
        "id": "vu7WrUhFWCO-",
        "colab_type": "code",
        "colab": {}
      },
      "source": [
        "expt_1.baseline()\n",
        "expt_2.baseline()\n",
        "expt_3.baseline()"
      ],
      "execution_count": null,
      "outputs": []
    },
    {
      "cell_type": "markdown",
      "metadata": {
        "id": "0M-3HXSrWEw4",
        "colab_type": "text"
      },
      "source": [
        "If you need to change the region used for baselining (for example, if there is noise on part of the approach) use the 'start_pos' and 'end_pos' inputs. Note these should be a fraction of the distance from the contact section of the curve towards the baseline. The default values are 'start_pos = 0.45' and 'end_pos = 0.8'. Change them using as follows:"
      ]
    },
    {
      "cell_type": "code",
      "metadata": {
        "id": "R6g8R-SGWneO",
        "colab_type": "code",
        "colab": {}
      },
      "source": [
        "expt_1.baseline(start_pos = 0.5, end_pos = 0.7)"
      ],
      "execution_count": null,
      "outputs": []
    },
    {
      "cell_type": "markdown",
      "metadata": {
        "id": "pmhjHBwnWsuP",
        "colab_type": "text"
      },
      "source": [
        "You can also choose to exculed curves with a noisy baseline. The code calculates teh standard deviation over the specified region. If this is above a specified value the curve will be deleted. You can do this spearatley for the approach and retract curves by setting 'max_approach_noise' and 'max_retract_noise'. The default value for both is 1 and this can be changed as follows:"
      ]
    },
    {
      "cell_type": "code",
      "metadata": {
        "id": "G3Giu8RiXH-w",
        "colab_type": "code",
        "colab": {}
      },
      "source": [
        "expt_1.baseline(max_approach_noise = 2, max_retract_noise = 4)"
      ],
      "execution_count": null,
      "outputs": []
    },
    {
      "cell_type": "markdown",
      "metadata": {
        "id": "s8u9sc_UXRRO",
        "colab_type": "text"
      },
      "source": [
        "To change the baseline region and maximum noise together:\n"
      ]
    },
    {
      "cell_type": "code",
      "metadata": {
        "id": "vtDzasaoXVqy",
        "colab_type": "code",
        "colab": {}
      },
      "source": [
        "expt_1.baseline(\n",
        "    start_pos = 0.5,\n",
        "    end_pos = 0.7,\n",
        "    max_approach_noise = 2,\n",
        "    max_retract_noise = 4\n",
        ")"
      ],
      "execution_count": null,
      "outputs": []
    },
    {
      "cell_type": "markdown",
      "metadata": {
        "id": "XtzSwfH_Xbc3",
        "colab_type": "text"
      },
      "source": [
        "## Contact point\n",
        "\n",
        "To set surface height to zero, use the 'contact' function. Note this currently interpolates between the first point below zero and the previous point, so may have trouble for noisy data:"
      ]
    },
    {
      "cell_type": "code",
      "metadata": {
        "id": "xYfI2vUcXyCh",
        "colab_type": "code",
        "colab": {}
      },
      "source": [
        "expt_1.contact()\n",
        "expt_2.contact()\n",
        "expt_3.contact()"
      ],
      "execution_count": null,
      "outputs": []
    },
    {
      "cell_type": "markdown",
      "metadata": {
        "id": "md5stI4TX2-Y",
        "colab_type": "text"
      },
      "source": [
        "## Plot adjusted curves\n",
        "\n",
        "To view individual curves once they have been aligned, use the 'plot_adjusted' command, typing the number of the curve to plot in the brackets:"
      ]
    },
    {
      "cell_type": "code",
      "metadata": {
        "id": "R3zPI64Hb22l",
        "colab_type": "code",
        "colab": {}
      },
      "source": [
        "expt_1.plot_adjusted(10)"
      ],
      "execution_count": null,
      "outputs": []
    },
    {
      "cell_type": "markdown",
      "metadata": {
        "id": "mm-QppLQb7Cl",
        "colab_type": "text"
      },
      "source": [
        "You can also plot all of the curves and use a slider to cycle through them, using 'plot_curves':"
      ]
    },
    {
      "cell_type": "code",
      "execution_count": null,
      "metadata": {},
      "outputs": [],
      "source": [
        "expt_3.plot_curves()"
      ]
    },
    {
      "cell_type": "markdown",
      "metadata": {
        "id": "sdhs8iBocEqB",
        "colab_type": "text"
      },
      "source": [
        "## Delete bad curves\n",
        "\n",
        "If a curve is noisy and needs to be removed, use the 'delete_curve' function. Put the numbers for all the curves to delete in the brackets:"
      ]
    },
    {
      "cell_type": "code",
      "metadata": {
        "id": "Gn3SLRBhcUsI",
        "colab_type": "code",
        "colab": {}
      },
      "source": [
        "expt_1.delete_curve(8,59,87)\n",
        "expt_2.delete_curve(17)"
      ],
      "execution_count": null,
      "outputs": []
    },
    {
      "cell_type": "markdown",
      "metadata": {
        "id": "xRnG2mVicdwb",
        "colab_type": "text"
      },
      "source": [
        "## Calcluate adhesion\n",
        "\n",
        "To calculate the adhesion for each curve, use 'calc_adhesion'. The mean and standard deviation for the adhesion calculated for each experiment will be printed in the output."
      ]
    },
    {
      "cell_type": "code",
      "metadata": {
        "id": "Ya52xkakcwy7",
        "colab_type": "code",
        "colab": {},
        "tags": []
      },
      "source": [
        "expt_1.calc_adhesion()\n",
        "expt_2.calc_adhesion()\n",
        "expt_3.calc_adhesion()"
      ],
      "execution_count": null,
      "outputs": []
    },
    {
      "cell_type": "markdown",
      "metadata": {
        "id": "3Bkhh6QRcwJV",
        "colab_type": "text"
      },
      "source": [
        "It is possible to plot a histogram of the calculated adhesion values by setting 'plot_hist' to 'True':"
      ]
    },
    {
      "cell_type": "code",
      "metadata": {
        "id": "OHgnu05adsED",
        "colab_type": "code",
        "colab": {},
        "tags": []
      },
      "source": [
        "expt_2.calc_adhesion(plot_hist = True)"
      ],
      "execution_count": null,
      "outputs": []
    },
    {
      "cell_type": "markdown",
      "metadata": {
        "id": "XwYcl1LxdzDU",
        "colab_type": "text"
      },
      "source": [
        "## Calculate modulus\n",
        "\n",
        "To caclculate the elastic modulus, use 'calc_modulus':"
      ]
    },
    {
      "cell_type": "code",
      "metadata": {
        "id": "VvkU74lnemhz",
        "colab_type": "code",
        "colab": {},
        "tags": []
      },
      "source": [
        "expt_1.calc_modulus()\n",
        "expt_2.calc_modulus()\n",
        "expt_3.calc_modulus()"
      ],
      "execution_count": null,
      "outputs": []
    },
    {
      "cell_type": "markdown",
      "metadata": {
        "id": "aErXPxUzesdg",
        "colab_type": "text"
      },
      "source": [
        "The method use currently follows the Hertz model for a spherical indenter, following the equations given in the README:\n",
        "https://pypi.org/project/nanoforce/\n",
        "\n",
        "The default method uses as poisson ratio of 0.5 and indenter radius of 10 nm (10E-09). To set these manually use the 'poisson_ratio' and 'indenter_radius' inputs:"
      ]
    },
    {
      "cell_type": "code",
      "metadata": {
        "id": "F0w7M1dYezfK",
        "colab_type": "code",
        "colab": {},
        "tags": []
      },
      "source": [
        "expt_1.calc_modulus(poisson_ratio = 0.4, indenter_radius = 20 * 10e-9)"
      ],
      "execution_count": null,
      "outputs": []
    },
    {
      "cell_type": "markdown",
      "metadata": {
        "id": "m2r5Vz0HenLR",
        "colab_type": "text"
      },
      "source": [
        "As with adhesion, it is possible to plot a histogram of the results:"
      ]
    },
    {
      "cell_type": "code",
      "metadata": {
        "id": "l5CbFr17fn5V",
        "colab_type": "code",
        "colab": {},
        "tags": []
      },
      "source": [
        "expt_2.calc_modulus(plot_hist = True)"
      ],
      "execution_count": null,
      "outputs": []
    },
    {
      "cell_type": "markdown",
      "metadata": {
        "id": "UqhSu-Vhq2Xs",
        "colab_type": "text"
      },
      "source": [
        "## Plot adhesion vs modulus\n",
        "\n",
        "To view a scatter plot of adhesion vs modulus use the following command:"
      ]
    },
    {
      "cell_type": "code",
      "metadata": {
        "id": "4z5hwNutq_8u",
        "colab_type": "code",
        "colab": {}
      },
      "source": [
        "expt_1.plot_adhesion_modulus()"
      ],
      "execution_count": null,
      "outputs": []
    },
    {
      "cell_type": "markdown",
      "metadata": {
        "id": "0FvssMixfsm_",
        "colab_type": "text"
      },
      "source": [
        "## Saving and reloading results\n",
        "\n",
        "To save the calculate results, including force curves and parameters, use 'save_data'. This will open a window prompting you to select a folder and file name for saving. Leave the file extension blank."
      ]
    },
    {
      "cell_type": "code",
      "metadata": {
        "id": "k4ZMYddfgIdD",
        "colab_type": "code",
        "colab": {}
      },
      "source": [
        "expt_1.save_data()"
      ],
      "execution_count": null,
      "outputs": []
    },
    {
      "cell_type": "markdown",
      "metadata": {},
      "source": [
        "You can also specify the filename and folder in the brackets:"
      ]
    },
    {
      "cell_type": "code",
      "execution_count": null,
      "metadata": {},
      "outputs": [],
      "source": [
        "expt_1.save_data('filename')\n",
        "expt_2.save_data(r'\\path\\to\\file')"
      ]
    },
    {
      "cell_type": "markdown",
      "metadata": {
        "id": "BHG9IRKTgN0T",
        "colab_type": "text"
      },
      "source": [
        "To load saved data, create a new variable with the AFM class and call the 'load_data' function:"
      ]
    },
    {
      "cell_type": "code",
      "metadata": {
        "id": "DeBK2bMjgdZL",
        "colab_type": "code",
        "colab": {}
      },
      "source": [
        "from  afm   import  AFM\n",
        "loaded_data = AFM()\n",
        "loaded_data.load_data()"
      ],
      "execution_count": null,
      "outputs": []
    },
    {
      "cell_type": "markdown",
      "metadata": {
        "id": "IP5l86PHgct1",
        "colab_type": "text"
      },
      "source": [
        "## Built in comparison plots\n",
        "\n",
        "There are a number of functions built in for plotting comparisons of the adhesion and modulus data for separate experiments. These have been left as basic functions. For more specific plots, folow the custom plotting section below.\n",
        "\n",
        "To use the comparison plots, call the functions listed below directly from the AFM class with input variables for each experiment as an input.\n",
        "\n",
        "#### Histogram comparison of adhesion"
      ]
    },
    {
      "cell_type": "code",
      "metadata": {
        "id": "sAl_NlgxhVuS",
        "colab_type": "code",
        "colab": {}
      },
      "source": [
        "AFM.overlay_adhesion_hist(expt_1,expt_2,expt_3)"
      ],
      "execution_count": null,
      "outputs": []
    },
    {
      "cell_type": "markdown",
      "metadata": {
        "id": "STe7s_Hoh1tp",
        "colab_type": "text"
      },
      "source": [
        "#### Histogram comparison of modulus"
      ]
    },
    {
      "cell_type": "code",
      "metadata": {
        "id": "03UsB5a7ho0Q",
        "colab_type": "code",
        "colab": {}
      },
      "source": [
        "AFM.overlay_modulus_hist(expt_1,expt_2,expt_3)"
      ],
      "execution_count": null,
      "outputs": []
    },
    {
      "cell_type": "markdown",
      "metadata": {
        "id": "2s89bhpYh2J_",
        "colab_type": "text"
      },
      "source": [
        "#### Box plot comparison of adhesion"
      ]
    },
    {
      "cell_type": "code",
      "metadata": {
        "id": "WX_anK7Xho36",
        "colab_type": "code",
        "colab": {}
      },
      "source": [
        "AFM.overlay_adhesion_box(expt_1,expt_2,expt_3)"
      ],
      "execution_count": null,
      "outputs": []
    },
    {
      "cell_type": "markdown",
      "metadata": {
        "id": "l25At0gVh2lo",
        "colab_type": "text"
      },
      "source": [
        "#### Box plot comparison of modulus"
      ]
    },
    {
      "cell_type": "code",
      "metadata": {
        "id": "f5cRN-Vfho9f",
        "colab_type": "code",
        "colab": {}
      },
      "source": [
        "AFM.overlay_modulus_box(expt_1,expt_2,expt_3)"
      ],
      "execution_count": null,
      "outputs": []
    },
    {
      "cell_type": "markdown",
      "metadata": {
        "id": "VnLCsmSPh3ar",
        "colab_type": "text"
      },
      "source": [
        "#### Bar chart (with error bars) comparison of adhesion"
      ]
    },
    {
      "cell_type": "code",
      "metadata": {
        "id": "GEU6RQ2fhpHB",
        "colab_type": "code",
        "colab": {}
      },
      "source": [
        "AFM.overlay_adhesion_bar(expt_1,expt_2,expt_3)"
      ],
      "execution_count": null,
      "outputs": []
    },
    {
      "cell_type": "markdown",
      "metadata": {
        "id": "pEETkxGFh32z",
        "colab_type": "text"
      },
      "source": [
        "#### Bar chart (with error bars) comparison of modulus"
      ]
    },
    {
      "cell_type": "code",
      "metadata": {
        "id": "uVqFRfvjhpD5",
        "colab_type": "code",
        "colab": {}
      },
      "source": [
        "AFM.overlay_modulus_bar(expt_1,expt_2,expt_3)"
      ],
      "execution_count": null,
      "outputs": []
    },
    {
      "cell_type": "markdown",
      "metadata": {
        "id": "tLwGSy6FiQ5_",
        "colab_type": "text"
      },
      "source": [
        "## Custom plotting and analysis\n",
        "\n",
        "The calculated variables are stored within each 'experiment' variable. These can be called when writing custom plotting or analysis scripts specific to your application. The variables available for each experiment are as follows:\n"
      ]
    },
    {
      "cell_type": "code",
      "metadata": {
        "id": "Gkp20wlpinP8",
        "colab_type": "code",
        "colab": {}
      },
      "source": [
        "expt_1.approach        # All approach curve data (nN)\n",
        "expt_1.retract         # All retract curve data (nN)\n",
        "expt_1.z_position      # All tip position data (nm)\n",
        "\n",
        "expt_1.approach[:,i]   # Adhesion curve for experiment i\n",
        "expt_1.retract[:,i]    # Adhesion curve for experiment i\n",
        "expt_1.z_position[:,i] # Adhesion curve for experiment i\n",
        "\n",
        "expt_1.def_sens        # Deflection sensetivity (nm/V)\n",
        "expt_1.spr_const       # Spring constant (N/m)\n",
        "\n",
        "expt_1.adheison        # Adhesion data (nN)\n",
        "expt_1.modulus         # Modulus data (MPa)\n",
        "\n",
        "expt_1.run_name        # Experiment name"
      ],
      "execution_count": null,
      "outputs": []
    },
    {
      "cell_type": "markdown",
      "metadata": {
        "id": "_RU3dtuxjJyK",
        "colab_type": "text"
      },
      "source": [
        "Below is an example custom plotting script to overlay retract curves for multips experiments. This example uses plotly. There are a number of plotting tools in this package, and more detail (including example scripts) is available from https://plotly.com/python/"
      ]
    },
    {
      "cell_type": "code",
      "metadata": {
        "id": "4SwisbXzjSl6",
        "colab_type": "code",
        "colab": {},
        "tags": []
      },
      "source": [
        "import  plotly.graph_objects  as      go\n",
        "from    afm                   import  AFM\n",
        "\n",
        "expt_1 = AFM()\n",
        "expt_2 = AFM()\n",
        "\n",
        "expt_1.run()\n",
        "expt_2.run()\n",
        "\n",
        "fig = go.Figure()\n",
        "\n",
        "curve_number = 12\n",
        "\n",
        "fig.add_trace(go.Scatter(y = expt_1.retract[:,curve_number],\n",
        "                         x = expt_1.z_position[:,curve_number],\n",
        "                         mode='lines',\n",
        "                         name = 'Sample 1'))\n",
        "\n",
        "fig.add_trace(go.Scatter(y = expt_2.retract[:,curve_number],\n",
        "                         x = expt_2.z_position[:,curve_number],\n",
        "                         mode='lines',\n",
        "                         name = 'Sample 2'))\n",
        "\n",
        "fig.update_layout(\n",
        "    yaxis_title_text='Force (nN)',\n",
        "    xaxis_title_text='Tip separation (nm)')\n",
        "\n",
        "fig.show()"
      ],
      "execution_count": null,
      "outputs": []
    },
    {
      "cell_type": "markdown",
      "metadata": {
        "id": "qGuYjLwjjutZ",
        "colab_type": "text"
      },
      "source": [
        "## Example analysis script\n",
        "\n",
        "An example analysis script is available from Git Hub:\n",
        "https://github.com/crj341/nanoforce/blob/master/afm_analysis.py\n",
        "\n",
        "A script is also available here to apply a clustering algorithm to identify groups of corresponding adhesion and modulus values, while removing noise:\n",
        "https://github.com/crj341/nanoforce/blob/master/afm_clustering.py"
      ]
    }
  ],
  "metadata": {
    "colab": {
      "name": "AFM_tutorial.ipynb",
      "provenance": [],
      "collapsed_sections": []
    },
    "kernelspec": {
      "name": "python3",
      "display_name": "Python 3"
    }
  },
  "nbformat": 4,
  "nbformat_minor": 0
}