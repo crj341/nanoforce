{
 "metadata": {
  "language_info": {
   "codemirror_mode": {
    "name": "ipython",
    "version": 3
   },
   "file_extension": ".py",
   "mimetype": "text/x-python",
   "name": "python",
   "nbconvert_exporter": "python",
   "pygments_lexer": "ipython3",
   "version": "3.8.1"
  },
  "orig_nbformat": 2,
  "kernelspec": {
   "name": "python38164bitf46a410c4d7c450bac9e37391af8f50a",
   "display_name": "Python 3.8.1 64-bit"
  },
  "metadata": {
   "interpreter": {
    "hash": "2ff71b6966b197e8b58a05321b83a72412e5d6b0157fa3adb2f6edf094f9e2be"
   }
  }
 },
 "nbformat": 4,
 "nbformat_minor": 2,
 "cells": [
  {
   "cell_type": "code",
   "execution_count": null,
   "metadata": {},
   "outputs": [],
   "source": [
    "# Chris Jones - crj341@student.bham.ac.uk\n",
    "# 28/04/2021\n",
    "\n",
    "# Mass AFM analysis script:\n",
    "# 1. Put all force curves to analyse in one folder\n",
    "# 2. Set folder name below\n",
    "# 3. Run 1st cell\n",
    "# 3. Name each sample in the 'samples' variable below - note each name nust be in quotation marks, followed by ': [],'\n",
    "# 4. PRun 2nd cell\n",
    "# 5. Plot data below, calling the relevant samples using the sample names specified\n",
    "\n",
    "import  glob, os\n",
    "from    nanoforce               import  AFM\n",
    "import  pandas                  as      pd\n",
    "import  seaborn                 as      sns\n",
    "import  plotly.graph_objects    as      go\n",
    "from    plotly.subplots         import  make_subplots\n",
    "import  numpy                   as      np\n",
    "import  matplotlib.pyplot       as      plt\n",
    "\n",
    "folder_name = r'C:\\add_your_folder_path_here'\n",
    "\n",
    "os.chdir(folder_name)\n",
    "files = glob.glob(\"*.nid\")\n",
    "print(*files, sep='\\n')"
   ]
  },
  {
   "cell_type": "code",
   "execution_count": null,
   "metadata": {},
   "outputs": [],
   "source": [
    "# Analysis script - only change sample names!\n",
    "\n",
    "samples = {\n",
    "    'Add': [],\n",
    "    'Your': [],\n",
    "    'Sample': [],\n",
    "    'Names': [],\n",
    "    'Here': [],\n",
    "}\n",
    "\n",
    "i = 0\n",
    "\n",
    "adhesion_df = pd.DataFrame()\n",
    "modulus_df = pd.DataFrame()\n",
    "\n",
    "for sample in samples.keys():\n",
    "\n",
    "    samples[sample] = AFM()\n",
    "    samples[sample].set_run_name(sample)\n",
    "    samples[sample].file_name = files[i]\n",
    "\n",
    "    i += 1\n",
    "\n",
    "    samples[sample].nanosurf_import() # If using Nanoscope files replace this with:\n",
    "                                      # samples[sample].input_files()\n",
    "                                      # samples[sample].nanoscope_params()\n",
    "                                      # samples[sample].nanoscope_read()\n",
    "                                      \n",
    "    samples[sample].baseline()\n",
    "    samples[sample].contact()\n",
    "    samples[sample].adjust_tip_position()\n",
    "\n",
    "    samples[sample].calc_adhesion()\n",
    "    samples[sample].calc_modulus()\n",
    "\n",
    "    adhesion_df.insert(loc = 0, column=sample, value=samples[sample].adhesion)\n",
    "    modulus_df.insert(loc = 0, column=sample, value=samples[sample].modulus)"
   ]
  },
  {
   "cell_type": "code",
   "execution_count": null,
   "metadata": {},
   "outputs": [],
   "source": [
    "# Function to plot all force curves for specified sample\n",
    "samples['Sample name'].plot_curves()"
   ]
  },
  {
   "cell_type": "code",
   "execution_count": null,
   "metadata": {},
   "outputs": [],
   "source": [
    "# Function to overlay all approach and withdraw curves for specified sample\n",
    "expt = samples['Sample name']\n",
    "\n",
    "fig = make_subplots(rows=1, cols=2,\n",
    "    subplot_titles=(\"Approach curves\", \"Retract curves\"))\n",
    " \n",
    "for curve_number in range(0,expt.approach.shape[1]):\n",
    " \n",
    "    fig.add_trace(go.Scatter(y = expt.approach[:,curve_number], x = expt.z_approach[:,curve_number], mode='lines', name = 'Approach curve (raw)'), row=1, col=1)\n",
    "    fig.add_trace(go.Scatter(y = expt.retract[:,curve_number], x = expt.z_withdraw[:,curve_number], mode='lines', name = 'Retract curve (raw)'), row=1, col=2)\n",
    " \n",
    "fig['layout']['xaxis']['title']='Piezo position (nm)'\n",
    "fig['layout']['xaxis2']['title']='Piezo position (nm)'\n",
    "fig['layout']['yaxis']['title']='Force (nN)'\n",
    "fig['layout']['yaxis2']['title']='Force (nN)'\n",
    " \n",
    "fig.update_layout(height=500, width=1200, showlegend=False, template='plotly_white')\n",
    "fig.show()"
   ]
  },
  {
   "cell_type": "code",
   "execution_count": null,
   "metadata": {},
   "outputs": [],
   "source": [
    "# Adhesion histogram - see seaborn documentation to adjust formatting\n",
    "ax1 = sns.histplot(adhesion_df[['Sample name 1','Sample name 2','Sample name 3']], kde=True)\n",
    "ax1.set(xlabel='Adhesion (nN)', ylabel='Counts')"
   ]
  },
  {
   "cell_type": "code",
   "execution_count": null,
   "metadata": {},
   "outputs": [],
   "source": [
    "# Adhesion bar chart - see seaborn documentation to adjust formatting\n",
    "ax2 = sns.barplot(data = adhesion_df[['Sample name 1','Sample name 2','Sample name 3']])"
   ]
  },
  {
   "cell_type": "code",
   "execution_count": null,
   "metadata": {},
   "outputs": [],
   "source": [
    "# Modulus histogram - see seaborn documentation to adjust formatting\n",
    "ax3 = sns.histplot(modulus_df[['Sample name 1','Sample name 2','Sample name 3']], binwidth=0.25, kde=True)\n",
    "ax3.set(xlabel='Adhesion (nN)', ylabel='Counts')"
   ]
  }
 ]
}